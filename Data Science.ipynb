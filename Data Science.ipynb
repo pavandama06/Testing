{
  "metadata": {
    "kernelspec": {
      "name": "python",
      "display_name": "Python (Pyodide)",
      "language": "python"
    },
    "language_info": {
      "codemirror_mode": {
        "name": "python",
        "version": 3
      },
      "file_extension": ".py",
      "mimetype": "text/x-python",
      "name": "python",
      "nbconvert_exporter": "python",
      "pygments_lexer": "ipython3",
      "version": "3.8"
    }
  },
  "nbformat_minor": 4,
  "nbformat": 4,
  "cells": [
    {
      "cell_type": "markdown",
      "source": "## Exercise 2 - Notebook Title",
      "metadata": {}
    },
    {
      "cell_type": "markdown",
      "source": "Data Science Tools",
      "metadata": {}
    },
    {
      "cell_type": "markdown",
      "source": "## Exercise 3 - Introduction",
      "metadata": {}
    },
    {
      "cell_type": "markdown",
      "source": "In this notebook, we’ll explore essential tools, languages, and libraries widely used in Data Science. We’ll also perform simple arithmetic operations in Python to demonstrate practical coding.\n\n",
      "metadata": {}
    },
    {
      "cell_type": "markdown",
      "source": "## Exercise 4 - Commonly Used Languages for Data Science\n\n",
      "metadata": {}
    },
    {
      "cell_type": "markdown",
      "source": "Below are some of the most popular programming languages used by data scientists:\n\n1. Python\n2. R\n3. SQL\n4. Julia\n5. Scala",
      "metadata": {}
    },
    {
      "cell_type": "markdown",
      "source": "## Exercise 5 - Popular Data Science Libraries\n\n",
      "metadata": {}
    },
    {
      "cell_type": "markdown",
      "source": "Here is a list of widely-used libraries in the Data Science field:\n\n- NumPy\n- Pandas\n- Matplotlib\n- Scikit-learn\n- TensorFlow",
      "metadata": {}
    },
    {
      "cell_type": "code",
      "source": "# Exercise 6 - Data Science Tools Table\n\nimport pandas as pd\n\ntools_data = {\n    \"Tool Name\": [\"Jupyter Notebook\", \"RStudio\", \"Apache Spark\", \"TensorFlow\", \"Power BI\"],\n    \"Description\": [\n        \"Interactive environment for writing code and notes\",\n        \"IDE tailored for R language development\",\n        \"Framework for handling large-scale data\",\n        \"Deep learning and ML framework\",\n        \"Business intelligence and data visualization tool\"\n    ]\n}\n\ntools_df = pd.DataFrame(tools_data)\ntools_df",
      "metadata": {
        "trusted": true
      },
      "outputs": [
        {
          "execution_count": 3,
          "output_type": "execute_result",
          "data": {
            "text/plain": "          Tool Name                                        Description\n0  Jupyter Notebook  Interactive environment for writing code and n...\n1           RStudio            IDE tailored for R language development\n2      Apache Spark            Framework for handling large-scale data\n3        TensorFlow                     Deep learning and ML framework\n4          Power BI  Business intelligence and data visualization tool",
            "text/html": "<div>\n<style scoped>\n    .dataframe tbody tr th:only-of-type {\n        vertical-align: middle;\n    }\n\n    .dataframe tbody tr th {\n        vertical-align: top;\n    }\n\n    .dataframe thead th {\n        text-align: right;\n    }\n</style>\n<table border=\"1\" class=\"dataframe\">\n  <thead>\n    <tr style=\"text-align: right;\">\n      <th></th>\n      <th>Tool Name</th>\n      <th>Description</th>\n    </tr>\n  </thead>\n  <tbody>\n    <tr>\n      <th>0</th>\n      <td>Jupyter Notebook</td>\n      <td>Interactive environment for writing code and n...</td>\n    </tr>\n    <tr>\n      <th>1</th>\n      <td>RStudio</td>\n      <td>IDE tailored for R language development</td>\n    </tr>\n    <tr>\n      <th>2</th>\n      <td>Apache Spark</td>\n      <td>Framework for handling large-scale data</td>\n    </tr>\n    <tr>\n      <th>3</th>\n      <td>TensorFlow</td>\n      <td>Deep learning and ML framework</td>\n    </tr>\n    <tr>\n      <th>4</th>\n      <td>Power BI</td>\n      <td>Business intelligence and data visualization tool</td>\n    </tr>\n  </tbody>\n</table>\n</div>"
          },
          "metadata": {}
        }
      ],
      "execution_count": 3
    },
    {
      "cell_type": "markdown",
      "source": "### Exercise 7 - What Are Arithmetic Expressions?",
      "metadata": {}
    },
    {
      "cell_type": "markdown",
      "source": "Arithmetic expressions include operations like addition, subtraction, multiplication, and division. These are basic math operations executed using symbols:\n\n- Addition (+): 7 + 2\n- Subtraction (-): 10 - 4\n- Multiplication (*): 6 * 3\n- Division (/): 12 / 4",
      "metadata": {}
    },
    {
      "cell_type": "code",
      "source": "# Exercise 8 - Multiply and Add Numbers Using Python\na = 6\nb = 4\nproduct = a * b\ntotal = a + b\nprint(\"Product of numbers:\", product)\nprint(\"Sum of numbers:\", total)",
      "metadata": {
        "trusted": true
      },
      "outputs": [
        {
          "name": "stdout",
          "text": "Product of numbers: 24\nSum of numbers: 10\n",
          "output_type": "stream"
        }
      ],
      "execution_count": 6
    },
    {
      "cell_type": "code",
      "source": "# Exercise 9 - Convert Minutes into Hours\nminutes = 150\nhours = minutes / 60\nprint(\"Converted time in hours:\", hours)",
      "metadata": {
        "trusted": true
      },
      "outputs": [
        {
          "name": "stdout",
          "text": "Converted time in hours: 2.5\n",
          "output_type": "stream"
        }
      ],
      "execution_count": 7
    },
    {
      "cell_type": "markdown",
      "source": "## Exercise 10 - Objectives of This Notebook",
      "metadata": {}
    },
    {
      "cell_type": "markdown",
      "source": "Here are the key learning goals from this notebook:\n\n- Get familiar with common Data Science languages\n- Explore important libraries in the field\n- Learn about Data Science tools and platforms\n- Practice basic arithmetic operations in Python\n- Convert time units using Python",
      "metadata": {}
    },
    {
      "cell_type": "markdown",
      "source": "## Exercise 11 - Author",
      "metadata": {}
    },
    {
      "cell_type": "markdown",
      "source": "Pavan Kumar Dama",
      "metadata": {}
    },
    {
      "cell_type": "code",
      "source": "",
      "metadata": {
        "trusted": true
      },
      "outputs": [],
      "execution_count": null
    }
  ]
}